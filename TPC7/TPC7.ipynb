{
 "cells": [
  {
   "cell_type": "code",
   "execution_count": 5,
   "metadata": {},
   "outputs": [
    {
     "name": "stdout",
     "output_type": "stream",
     "text": [
      "      LEI      |23   \n",
      "    ENGFIS     |32   \n",
      "      LCC      |20   \n",
      "    ENGBIOM    |25   \n",
      "       C       |27   \n",
      "       B       |67   \n",
      "       A       |6    \n"
     ]
    }
   ],
   "source": [
    "import aula7 \n",
    "\n",
    "aula7.lerAlunos()\n",
    "aula7.distribCurso(aula7.lerAlunos())\n",
    "aula7.mediaNotas(aula7.lerAlunos())\n",
    "aula7.escalaoTpc(aula7.mediaNotas(aula7.lerAlunos()))\n",
    "aula7.distribEscalao(aula7.escalaoTpc(aula7.mediaNotas(aula7.lerAlunos())))\n",
    "aula7.graph(aula7.distribCurso(aula7.lerAlunos()))\n",
    "aula7.graph(aula7.distribEscalao(aula7.escalaoTpc(aula7.mediaNotas(aula7.lerAlunos()))))\n",
    "aula7.tabela(aula7.distribCurso(aula7.lerAlunos()))\n",
    "aula7.tabela(aula7.distribEscalao(aula7.escalaoTpc(aula7.mediaNotas(aula7.lerAlunos()))))\n",
    "\n",
    "aula7.menu()\n",
    "aula7.submenuDistrib()\n",
    "aula7.submenuGraph()\n",
    "\n",
    "function = int(input(\"O que pretende fazer ?\"))\n",
    "while function != 0:\n",
    "    if function == 1:\n",
    "        aula7.menu()\n",
    "    if function == 2:\n",
    "        print(\"A lista de alunos é:\\n\")\n",
    "        print(aula7.lerAlunos())\n",
    "    if function == 3:\n",
    "        print(\"Tabela de alunos e respetiva média:\\n\")\n",
    "        lista = aula7.mediaNotas(aula7.lerAlunos())\n",
    "        for aluno in lista:\n",
    "            nome = aluno[\"nome\"]\n",
    "            media = aluno[\"media\"]\n",
    "            escalao = aluno[\"escalao\"]\n",
    "            print(f\"{nome:^30} | {media:^5}\")\n",
    "    if function == 4:\n",
    "        print(\"Tabela de alunos e respetivo escalão e média:\\n\")\n",
    "        lista = aula7.escalaoTpc(aula7.mediaNotas(aula7.lerAlunos()))\n",
    "        for aluno in lista:\n",
    "            nome = aluno[\"nome\"]\n",
    "            media = aluno[\"media\"]\n",
    "            grade = aluno[\"escalao\"]\n",
    "            print(f\"{nome:^30}|{media:^9}|{grade:<1}\")\n",
    "    if function == 5:\n",
    "        aula7.submenuDistrib()\n",
    "        subfunction = int(input(\"Que distribuição pretende ver?\"))\n",
    "        while subfunction != 0:\n",
    "            if subfunction == 1:\n",
    "                aula7.submenuDistrib()\n",
    "            if subfunction == 2:\n",
    "                print(\"Tabela da distribuição dos alunos por curso:\\n\")\n",
    "                aula7.tabela(aula7.distribCurso(aula7.lerAlunos()))\n",
    "            if subfunction == 3:\n",
    "                print(\"Tabela da distribuição dos alunos por escalão:\\n\")\n",
    "                aula7.tabela(aula7.distribEscalao(aula7.escalaoTpc(aula7.mediaNotas(aula7.lerAlunos()))))\n",
    "            subfunction = int(input(\"Que distribuição pretende ver agora?\"))\n",
    "    if function == 6:\n",
    "        aula7.submenuGraph()\n",
    "        subfunction = int(input(\"Que gráfico pretende ver?\"))\n",
    "        while subfunction != 0:\n",
    "            if subfunction == 1:\n",
    "                aula7.submenuGraph()\n",
    "            if subfunction == 2:\n",
    "                aula7.graph(aula7.distribCurso(aula7.lerAlunos()))\n",
    "            if subfunction == 3:\n",
    "                aula7.graph(aula7.distribEscalao(aula7.escalaoTpc(aula7.mediaNotas(aula7.lerAlunos()))))\n",
    "            subfunction = int(input(\"Que gráfico pretende ver?\"))\n",
    "\n",
    "    function = int(input(\"O que pretende fazer agora?\"))\n",
    "\n"
   ]
  }
 ],
 "metadata": {
  "kernelspec": {
   "display_name": "Python 3.10.8 64-bit",
   "language": "python",
   "name": "python3"
  },
  "language_info": {
   "codemirror_mode": {
    "name": "ipython",
    "version": 3
   },
   "file_extension": ".py",
   "mimetype": "text/x-python",
   "name": "python",
   "nbconvert_exporter": "python",
   "pygments_lexer": "ipython3",
   "version": "3.10.8"
  },
  "orig_nbformat": 4,
  "vscode": {
   "interpreter": {
    "hash": "a1b250869b7b451bc090eaeeefe2f4bc81e7888a1592e7c1d554bb93ce0ab375"
   }
  }
 },
 "nbformat": 4,
 "nbformat_minor": 2
}
