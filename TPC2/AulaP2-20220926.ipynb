{
 "cells": [
  {
   "cell_type": "markdown",
   "id": "1e545158",
   "metadata": {},
   "source": [
    "# Aula Prática 2 (guião)\n",
    "### Semana de 26 a 30 de Setembro de 2022\n",
    "### José Carlos Ramalho e Luís Cunha\n",
    "### Sinopsis:\n",
    "Algoritmos de cálculo numérico envolvendo estruturas condicionais (if-elif-else) e cíclicas (while)."
   ]
  },
  {
   "cell_type": "markdown",
   "id": "e38d18c4-d7d7-4fea-9bc6-e3f3c903386b",
   "metadata": {},
   "source": [
    "### Exercício 1: Soma de N números\n",
    "- Leia um número N;\n",
    "- Leia N números;\n",
    "- Imprima a soma dos N números."
   ]
  },
  {
   "cell_type": "code",
   "execution_count": 9,
   "id": "af973146-3bb4-4fa8-ba6c-b887b79ccff8",
   "metadata": {},
   "outputs": [
    {
     "name": "stdout",
     "output_type": "stream",
     "text": [
      "30\n"
     ]
    }
   ],
   "source": [
    "N = int(input(\"insira o numero de numeros \"))\n",
    "soma=0\n",
    "while(N>0):\n",
    " n=int(input(\"insira o numero\"))\n",
    " soma=soma+n\n",
    " N= N-1\n",
    "print(soma)"
   ]
  },
  {
   "cell_type": "markdown",
   "id": "bdcbffb0",
   "metadata": {},
   "source": [
    "### Exercício 2: O Maior de N números\n",
    "- Leia um número N;\n",
    "- Leia N números;\n",
    "- Imprima o maior dos N números."
   ]
  },
  {
   "cell_type": "code",
   "execution_count": 20,
   "id": "af973146-3bb4-4fa8-ba6c-b887b79ccff8",
   "metadata": {},
   "outputs": [
    {
     "name": "stdout",
     "output_type": "stream",
     "text": [
      "9\n"
     ]
    }
   ],
   "source": [
    "# Solução do exercício 2\n",
    "N = int(input(\"insira o numero de numeros\"))\n",
    "max=int (input(\"insira o primeiro numero seguinte\"))\n",
    "N=N-1\n",
    "while(N>0):\n",
    "    n=int (input(\"insira o numero\"))\n",
    "    if n>max:\n",
    "        max=n\n",
    "    N=N-1\n",
    "print(max) \n"
   ]
  },
  {
   "cell_type": "markdown",
   "id": "bdcbffb0",
   "metadata": {},
   "source": [
    "### Exercício 3: O Menor de N números\n",
    "- Leia um número N;\n",
    "- Leia N números;\n",
    "- Imprima o menor dos N números."
   ]
  },
  {
   "cell_type": "code",
   "execution_count": 8,
   "id": "64ad6f7b",
   "metadata": {},
   "outputs": [
    {
     "name": "stdout",
     "output_type": "stream",
     "text": [
      "1\n"
     ]
    }
   ],
   "source": [
    "# Solução do exercício 3\n",
    "N = int(input(\"insira i numero de numeros\"))\n",
    "min=int(input(\"insira o numero\"))\n",
    "N=N-1\n",
    "while(N>0) :\n",
    "    n=int (input(\"insira o numero\"))\n",
    "    if n<min:\n",
    "        min=n \n",
    "    N=N-1\n",
    "print(min)"
   ]
  },
  {
   "cell_type": "markdown",
   "id": "bdcbffb0",
   "metadata": {},
   "source": [
    "### Exercício 4: A Média de N números\n",
    "- Leia um número N;\n",
    "- Leia N números;\n",
    "- Imprima a média dos N números."
   ]
  },
  {
   "cell_type": "code",
   "execution_count": 23,
   "id": "a6c32b2e",
   "metadata": {},
   "outputs": [
    {
     "name": "stdout",
     "output_type": "stream",
     "text": [
      "5.0\n"
     ]
    }
   ],
   "source": [
    "# Solução do exercício 4\n",
    "N= int(input(\"insira o numero de numeros\"))\n",
    "total=N\n",
    "soma=0\n",
    "while N>0:\n",
    "    n= int(input(\"insira \"))\n",
    "    soma=soma+n\n",
    "    N=N-1\n",
    "print(soma/total)"
   ]
  },
  {
   "cell_type": "markdown",
   "id": "f41ef69b",
   "metadata": {},
   "source": [
    "### Exercício 5: Potência\n",
    "- Defina uma função **pot** que recebe dois parâmetros, **a** e **b**, e retorna o resultado de **a elevado à potência de b**.\n",
    "- Use esta função para escrever no monitor as potências de 2 com expoentes de 1 a 20."
   ]
  },
  {
   "cell_type": "code",
   "execution_count": 19,
   "id": "86f5b24d",
   "metadata": {},
   "outputs": [
    {
     "name": "stdout",
     "output_type": "stream",
     "text": [
      "2\n",
      "4\n",
      "8\n",
      "16\n",
      "32\n",
      "64\n",
      "128\n",
      "256\n",
      "512\n",
      "1024\n",
      "2048\n",
      "4096\n",
      "8192\n",
      "16384\n",
      "32768\n",
      "65536\n",
      "131072\n",
      "262144\n",
      "524288\n",
      "1048576\n"
     ]
    }
   ],
   "source": [
    "# Solução do exercício 5\n",
    "def pot(a,b):\n",
    "    c=1\n",
    "    while b>0:\n",
    "       c=c*a\n",
    "       b=b-1 \n",
    "    return c\n",
    "i=1\n",
    "while i <= 20:\n",
    "    print(pot(2,i))\n",
    "    i=i+1\n"
   ]
  },
  {
   "cell_type": "markdown",
   "id": "d11cdd11",
   "metadata": {},
   "source": [
    "### Exercício 6: Série numérica\n",
    "- Defina uma função **serie** que recebe três parâmetros, **base**, **salto** e **nelems**, e escreve no monitor a série;\n",
    "- Invocada com: **serie(7, 4, 5)** escreveria: 7, 11, 15, 19, 23"
   ]
  },
  {
   "cell_type": "code",
   "execution_count": 5,
   "id": "7549c7d7",
   "metadata": {},
   "outputs": [
    {
     "name": "stdout",
     "output_type": "stream",
     "text": [
      "7\n",
      "11\n",
      "15\n",
      "19\n",
      "23\n"
     ]
    }
   ],
   "source": [
    "# Solução do exercício 6\n",
    "def serie(base,salto,nelems):\n",
    "    print (base)\n",
    "    while nelems>1:\n",
    "        base=base+salto\n",
    "        nelems=nelems-1\n",
    "        print(base)\n",
    "    return \n",
    "serie(int(input(\"insira base\")), int(input(\"insira salto\")),int(input(\"insira numero de elementos\")))\n"
   ]
  },
  {
   "cell_type": "markdown",
   "id": "73187e87",
   "metadata": {},
   "source": [
    "### Exercício 7: Desenhar um quadrado\n",
    "- Defina uma função **quad** que recebe um argumento, **n**, e desenha no monitor um quadrado usando o caráter '#';\n",
    "- O resultado da invocação dessa função com um argumento 3 deverá ser:\n",
    "```\n",
    "###\n",
    "###\n",
    "###\n",
    "```"
   ]
  },
  {
   "cell_type": "code",
   "execution_count": 2,
   "id": "a31f8eaf",
   "metadata": {},
   "outputs": [
    {
     "name": "stdout",
     "output_type": "stream",
     "text": [
      "###\n",
      "###\n",
      "###\n"
     ]
    }
   ],
   "source": [
    "# Solução do exercício 7\n",
    "def quad(lado):\n",
    "    vertical=0\n",
    "    while vertical<lado:\n",
    "        horizontal=0\n",
    "        while horizontal<lado:\n",
    "            horizontal=horizontal+1\n",
    "            print(\"#\",end=\"\")\n",
    "        vertical=vertical+1\n",
    "        print(\"\")\n",
    "quad(int(input(\"lado\")))\n",
    "    "
   ]
  },
  {
   "cell_type": "markdown",
   "id": "10b1d00c",
   "metadata": {},
   "source": [
    "### Exercício 8: Desenhar um quadrado\n",
    "- Defina uma função que desenhe no ecran (usando os caracteres # e _) um tabuleiro de xadrez; \n",
    "- O resultado da invocação dessa função com um argumento 5 deverá ser:\n",
    "```\n",
    "#_#_#\n",
    "_#_#_\n",
    "#_#_#\n",
    "_#_#_\n",
    "#_#_#\n",
    "```"
   ]
  },
  {
   "cell_type": "code",
   "execution_count": 5,
   "id": "a4ccf6e1",
   "metadata": {},
   "outputs": [
    {
     "name": "stdout",
     "output_type": "stream",
     "text": [
      "#____\n",
      "_____\n",
      "_____\n",
      "_____\n",
      "_____\n"
     ]
    }
   ],
   "source": [
    "# Solução do exercício 8\n",
    "def xadrez(lado):\n",
    "    vertical=0\n",
    "    while vertical<lado:\n",
    "        if vertical==0:\n",
    "            horizontal=0\n",
    "            while horizontal<lado:\n",
    "                if horizontal==0:\n",
    "                    print(\"#\",end=\"\")\n",
    "                else:\n",
    "                    print (\"_\",end=\"\")\n",
    "                horizontal=horizontal+1\n",
    "        else:\n",
    "            horizontal=1\n",
    "            while horizontal<lado+1:\n",
    "                if horizontal==0:\n",
    "                    print(\"#\",end=\"\")\n",
    "                else:\n",
    "                    print(\"_\",end=\"\")\n",
    "                horizontal=horizontal+1\n",
    "        vertical=vertical+1\n",
    "        print(\"\")\n",
    "xadrez(int(input(\"lado\")))\n",
    "            \n",
    "    "
   ]
  },
  {
   "cell_type": "markdown",
   "id": "f4e2bc84",
   "metadata": {},
   "source": [
    "### Exercício 9: Índice de Massa Corporal\n",
    "- Defina uma função **imc** que recebe dois parâmetros, **peso**,**altura**, calcula o IMC corresponente e interpreta esse resultado.\n",
    "- imc(53,1.56) - Output: \"O seu índice de massa corporal é **21.78** e encontra-se na categoria **Normal**\"\n",
    "- imc(83,1.56) - Output: \"O seu índice de massa corporal é **34.11** e encontra-se na categoria **Obesidade grau I**\"\n",
    "\n",
    "Valores:\n",
    "- Menor que 18,5 - Baixo peso\n",
    "- 18,5 a 24,9 - Normal\n",
    "- 25 a 29,9\t- Excesso de peso\n",
    "- 30 a 34,9\t- Obesidade grau I\n",
    "- 35 a 39,9\t- Obesidade grau II\n",
    "- Maior que 40\t- Obesidade grau III"
   ]
  },
  {
   "cell_type": "code",
   "execution_count": 9,
   "id": "2a62004a",
   "metadata": {},
   "outputs": [
    {
     "name": "stdout",
     "output_type": "stream",
     "text": [
      "obesidade grau III\n"
     ]
    }
   ],
   "source": [
    "# Solução do exercício 9\n",
    "def imc(peso,altura):\n",
    "    imc=float(peso/altura)\n",
    "    if imc<18.5:\n",
    "        print(\"baixo peso\")\n",
    "    elif imc<25:\n",
    "        print(\"normal\")\n",
    "    elif imc<30:\n",
    "        print(\"excesso de peso\")\n",
    "    elif imc<35:\n",
    "        print(\"obesidade grau I\")\n",
    "    elif imc<40:\n",
    "        print(\"obesidade grau II\")\n",
    "    else:\n",
    "        print(\"obesidade grau III\")\n",
    "    return\n",
    "imc(int(input(\"insira o peso\")),float(input(\"insira a altura\")))"
   ]
  },
  {
   "cell_type": "markdown",
   "id": "5dcb3573",
   "metadata": {},
   "source": [
    "### Exercício 10: Série de Fibonacci\n",
    "- Defina uma função **fib** que recebe um argumento, **n**, e escreve no monitor os primeiros n elementos da série de fibonacci;\n",
    "- A série de Fibonacci tem a seguinte definição matemática:\n",
    "    - Se n < 2 ==> 1\n",
    "    - Se n >= 2 ==> fib(n-1) + fib(n-2)"
   ]
  },
  {
   "cell_type": "code",
   "execution_count": 12,
   "id": "fc54507c",
   "metadata": {},
   "outputs": [
    {
     "name": "stdout",
     "output_type": "stream",
     "text": [
      "0\n",
      "1\n",
      "1\n",
      "2\n",
      "3\n",
      "5\n",
      "8\n",
      "13\n",
      "21\n",
      "34\n",
      "55\n",
      "89\n",
      "144\n",
      "233\n",
      "377\n",
      "610\n",
      "987\n",
      "1597\n",
      "2584\n",
      "4181\n"
     ]
    }
   ],
   "source": [
    "# Solução do exercício 10\n",
    "def fib(n):\n",
    "    n1=0\n",
    "    n2=1\n",
    "    if n==1:\n",
    "        print(n1)\n",
    "    else:\n",
    "        while n>0:\n",
    "            n3=n1+n2\n",
    "            print(n1)\n",
    "            n1=n2\n",
    "            n2=n3\n",
    "            n=n-1\n",
    "    return\n",
    "fib(int(input(\"quantos elemetos?\")))\n",
    "\n"
   ]
  },
  {
   "cell_type": "markdown",
   "id": "c10a9e44",
   "metadata": {},
   "source": [
    "### Exercício 11: Potência (recursiva)\n",
    "- Revisitando o problema da potência:\n",
    "    - Defina uma função **pot** que recebe dois parâmetros, **a** e **b**, e retorna o resultado de **a elevado à potência de b**;\n",
    "    - Defina esta função de forma recursiva."
   ]
  },
  {
   "cell_type": "code",
   "execution_count": 14,
   "id": "00146b49",
   "metadata": {},
   "outputs": [
    {
     "data": {
      "text/plain": [
       "3"
      ]
     },
     "execution_count": 14,
     "metadata": {},
     "output_type": "execute_result"
    }
   ],
   "source": [
    "# Solução do exercício 11\n",
    "def pot(a,b):\n",
    "    if b==1:\n",
    "        return a \n",
    "    else:\n",
    "        return(a*b-1)\n",
    "pot(int(input(\"insira a\")),int(input(\"insira b\")))"
   ]
  },
  {
   "cell_type": "markdown",
   "id": "81703f1b",
   "metadata": {},
   "source": [
    "### TPC2: Adivinha o número\n",
    "- Crie um programa em Python para jogar o jogo \"Adivinha o número\":\n",
    "    - O jogo pode ter 2 modalidades: computador pensa num número (entre 0 e 100), utilizador tenta adivinhar; ou, o utilizador pensa num número (entre 0 e 100) e o computador tenta adivinhar;\n",
    "    - Quem tenta adivinhar responde com uma das afirmações: \"Acertou\", \"O número que pensei é Maior\" ou \"O número que pensei é Menor\";\n",
    "    - Uma vez descoberto o número o programa deverá terminar imprimindo o número de tentativas que quem adivinhou usou para chegar ao resultado."
   ]
  },
  {
   "cell_type": "code",
   "execution_count": 24,
   "id": "97970f15",
   "metadata": {},
   "outputs": [
    {
     "name": "stdout",
     "output_type": "stream",
     "text": [
      "70\n",
      "o numero que pensei é menor\n",
      "55\n",
      "o numero que pensei é maior\n",
      "99\n",
      "o numero que pensei é menor\n",
      "11\n",
      "o numero que pensei é maior\n",
      "22\n",
      "o numero que pensei é maior\n",
      "25\n",
      "o numero que pensei é maior\n",
      "33\n",
      "o numero que pensei é maior\n",
      "46\n",
      "o numero que pensei é maior\n",
      "50\n",
      "o numero que pensei é maior\n",
      "50\n",
      "o numero que pensei é maior\n",
      "62\n",
      "o numero que pensei é maior\n",
      "64\n",
      "o numero que pensei é maior\n",
      "65\n",
      "o numero que pensei é maior\n",
      "88\n",
      "o numero que pensei é menor\n",
      "88\n",
      "o numero que pensei é menor\n",
      "77\n",
      "o numero que pensei é menor\n",
      "70\n",
      "o numero que pensei é menor\n",
      "69\n",
      "o numero que pensei é menor\n",
      "67\n",
      "o numero que pensei é menor\n",
      "acertou em 20 tentativas\n"
     ]
    }
   ],
   "source": [
    "import random \n",
    "adivinha= int(input(\"Quem vai adivinhar?(0==computador,1==utilizador\"))\n",
    "if adivinha==1:\n",
    "    n=int(random.randrange(0,100))\n",
    "    guess=int(input(\"o meu numero é?\"))\n",
    "    tries=0\n",
    "    while num!=guess:\n",
    "        if guess<num:\n",
    "            print(\"o numero que pensei é maior\")\n",
    "            tries=tries+1\n",
    "            guess=int(input(\"tente novamente\"))\n",
    "        elif guess>num:\n",
    "            print(\"o numero que pensei é menor\")\n",
    "            tries=tries+1\n",
    "            guess=int(input(\"tente novamente\"))\n",
    "    print(\"acertou em\", tries+1,\"tentativas\")\n",
    "elif adivinha==0:\n",
    "    n=int(input(\"o meu numero é\"))\n",
    "    guess=int(random.randrange(0,100))\n",
    "    tries=0\n",
    "    while num!=guess:\n",
    "        if guess<num:\n",
    "            print(guess)\n",
    "            print(\"o numero que pensei é maior\")\n",
    "            tries=tries+1\n",
    "            guess=int(input(\"tente novamente\"))\n",
    "        elif guess>num:\n",
    "            print(guess)\n",
    "            print(\"o numero que pensei é menor\")\n",
    "            tries=tries+1\n",
    "            guess=int(input(\"tente novamente\"))\n",
    "    print(\"acertou em\",tries+1,\"tentativas\")\n",
    "        "
   ]
  }
 ],
 "metadata": {
  "kernelspec": {
   "display_name": "Python 3.10.7 64-bit",
   "language": "python",
   "name": "python3"
  },
  "language_info": {
   "codemirror_mode": {
    "name": "ipython",
    "version": 3
   },
   "file_extension": ".py",
   "mimetype": "text/x-python",
   "name": "python",
   "nbconvert_exporter": "python",
   "pygments_lexer": "ipython3",
   "version": "3.10.7"
  },
  "vscode": {
   "interpreter": {
    "hash": "a1b250869b7b451bc090eaeeefe2f4bc81e7888a1592e7c1d554bb93ce0ab375"
   }
  }
 },
 "nbformat": 4,
 "nbformat_minor": 5
}
